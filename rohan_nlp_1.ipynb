{
  "nbformat": 4,
  "nbformat_minor": 0,
  "metadata": {
    "colab": {
      "provenance": []
    },
    "kernelspec": {
      "name": "python3",
      "display_name": "Python 3"
    },
    "language_info": {
      "name": "python"
    }
  },
  "cells": [
    {
      "cell_type": "code",
      "execution_count": 2,
      "metadata": {
        "colab": {
          "base_uri": "https://localhost:8080/"
        },
        "id": "5exUxVbt6X6s",
        "outputId": "39cfaa9e-781b-43eb-8072-c6f801c0a332"
      },
      "outputs": [
        {
          "output_type": "stream",
          "name": "stdout",
          "text": [
            "1. Unigrams: \n",
            " Counter({'NLP': 1, 'project': 1})\n",
            "\n",
            "2.Bigrams: \n",
            " Counter({('I', 'like'): 1, ('like', 'NLP'): 1, ('NLP', 'very'): 1, ('very', 'much'): 1})\n",
            "\n",
            "3. Trigrams: \n",
            " Counter({('Selva', 'is', 'handsome'): 1, ('is', 'handsome', 'Guy'): 1, ('handsome', 'Guy', 'in'): 1, ('Guy', 'in', 'the'): 1, ('in', 'the', 'whole'): 1, ('the', 'whole', 'class'): 1})\n",
            " \n",
            "4.Bigram probabilities: \n",
            " defaultdict(<class 'float'>, {('I', 'am'): 1.0, ('am', 'the'): 1.0, ('the', 'most'): 0.5, ('most', 'dangerous'): 1.0, ('dangerous', 'person'): 1.0, ('person', 'in'): 1.0, ('in', 'the'): 1.0, ('the', 'class'): 0.5})\n",
            "\n",
            "5. Predicted next word: \n",
            " Bad\n"
          ]
        }
      ],
      "source": [
        "from collections import Counter\n",
        "def get_unigrams (text):\n",
        " words =text.split()\n",
        " unigrams= Counter (words)\n",
        " return unigrams\n",
        "text = \"NLP  project\"\n",
        "unigrams = get_unigrams (text)\n",
        "print(\"1. Unigrams: \\n\", unigrams)\n",
        "print (\"\")\n",
        "from collections import Counter\n",
        "from nltk import bigrams\n",
        "def get_bigrams (text):\n",
        " words=text.split()\n",
        " bigrams_list = list(bigrams (words))\n",
        " bigrams_count = Counter (bigrams_list)\n",
        " return bigrams_count\n",
        "text = \"I like NLP very much \"\n",
        "bigrams = get_bigrams (text)\n",
        "print(\"2.Bigrams: \\n\", bigrams)\n",
        "print(\"\")\n",
        "from collections import Counter\n",
        "from nltk import trigrams\n",
        "def get_trigrams (text):\n",
        " words =text.split()\n",
        " trigrams_list = list(trigrams (words))\n",
        " trigrams_count = Counter (trigrams_list)\n",
        " return trigrams_count\n",
        "text = \"Selva is handsome Guy in the whole class\"\n",
        "trigrams = get_trigrams (text)\n",
        "print(\"3. Trigrams: \\n\", trigrams)\n",
        "print (\" \")\n",
        "from collections import Counter, defaultdict\n",
        "from nltk import bigrams\n",
        "def get_bigram_probabilities (text):\n",
        " words=text.split()\n",
        " bigrams_list = list(bigrams (words))\n",
        " bigram_freq = Counter (bigrams_list)\n",
        " unigram_freq = Counter (words)\n",
        " bigram_probabilities = defaultdict(float)\n",
        " for bigram in bigram_freq:\n",
        "  bigram_probabilities [bigram] = bigram_freq [bigram] / unigram_freq[bigram[0]]\n",
        " return bigram_probabilities\n",
        "text = \"I am the most dangerous person in the class \"\n",
        "bigram_probabilities = get_bigram_probabilities (text)\n",
        "print(\"4.Bigram probabilities: \\n\", bigram_probabilities)\n",
        "print(\"\")\n",
        "def predict_next_word(text, word):\n",
        " bigram_probabilities = get_bigram_probabilities (text)\n",
        " candidates = {bigram [1]: prob for bigram, prob in bigram_probabilities.items() if bigram [0] == word}\n",
        " if not candidates:\n",
        "  return None\n",
        " next_word = max(candidates, key=candidates.get)\n",
        " return next_word\n",
        "text = \"I am very Bad \"\n",
        "word=\"very\"\n",
        "next_word = predict_next_word(text, word)\n",
        "print(\"5. Predicted next word: \\n\", next_word)"
      ]
    }
  ]
}